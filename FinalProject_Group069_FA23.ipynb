{
 "cells": [
  {
   "cell_type": "markdown",
   "metadata": {},
   "source": [
    "# Analyzing Pricing Differences in Men's and Women's Zara Products\n",
    "\n",
    "# Permissions\n",
    "\n",
    "**Place an `X` in the appropriate bracket below to specify if you would like your group's project to be made available to the public. (Note that student names will be included (but PIDs will be scraped from any groups who include their PIDs).**\n",
    "\n",
    "* [  ] YES - make available\n",
    "* [ 'X' ] NO - keep private\n",
    "\n",
    "# Names\n",
    "\n",
    "- Michelle Shen\n",
    "- Tracy Vu\n",
    "- Amber Wang\n",
    "- Yoyo Wu\n",
    "- Elaine Zhou\n",
    "\n",
    "# Abstract\n",
    "\n",
    "This project entails an evaluation of price differences within datasets of gender-specific clothing to determine any substantial discrepancies for particular categories. Initially, we intended to focus on personal care products like razors, shaving creams, shampoos, and conditioners, with the goal of finding comparable prices for these items. However, as we developed the project, we shifted our attention to investigating pricing inequities in fashion, as it’s an area that has acquired comparatively less research consideration.\n",
    "\n",
    "For this purpose, we leveraged a large dataset from the popular clothing company Zara. We chose Zara because of its widespread appeal to both men and women, ensuring similar demand across genders. Our analysis involved comparing prices of various types of apparel between the two genders, using metrics like means and standard deviations to quantify observed differences.\n",
    "\n",
    "Overall, our findings show that men's clothing has a higher average price and standard deviation versus women's clothing. However, identifying significant pricing variations within certain categories remains inconclusive. This uncertainty stems from an unequal distribution of counts in our two datasets, highlighting the need for further examination and refinement in future analyses."
   ]
  },
  {
   "cell_type": "markdown",
   "metadata": {},
   "source": [
    "# Research Question"
   ]
  },
  {
   "cell_type": "markdown",
   "metadata": {},
   "source": [
    "### How do gender-based pricing differences vary across different product categories in retail clothing?\n",
    "\n",
    "- Is the price difference significant for male and female products in any of the clothing categories?\n",
    "- If so, which clothing categories and which ones are more expensive?\n",
    "\n",
    "Product categories:\n",
    "- Apparel & Accessories (Shirts, Jeans, Jackets, etc.)\n",
    "\n",
    "Retail clothing: \n",
    "- Zara\n",
    "    \n",
    "\n"
   ]
  },
  {
   "cell_type": "markdown",
   "metadata": {},
   "source": [
    "## Background and Prior Work"
   ]
  },
  {
   "cell_type": "markdown",
   "metadata": {},
   "source": [
    "\n",
    "Recent studies have focused on the \"pink tax,\" examining whether systematic gender-based pricing discrepancies exist for consumer products marketed to women versus men. However, findings on whether such pricing differences actually occur, especially online, have been contradictory.\n",
    "\n",
    "For instance, a 2018 Government Accountability Office report <a name=\"cite_ref-1\"></a>[<sup>1</sup>](#cite_note-1) did not find consistent evidence of significant gender pricing differences overall across the products and brands included in their analysis.\n",
    "\n",
    "In contrast, a more recent 2021 study <a name=\"cite_ref-2\"></a>[<sup>2</sup>](#cite_note-2) by the New York City Department of Consumer and Worker Protection did find clear pricing differences, with women’s and girls’ products costing 7% more on average than men’s and boys’ items.\n",
    "\n",
    "These results indicate that more research is still needed to understand whether and how pricing may differ based on gender, particularly in online shopping where  price transparency and comparison should be easier. Isolating pricing differences between highly similar or identical products targeted at men versus women could provide clearer insight.\n",
    "\n",
    "\n",
    "\n",
    "1. <a name=\"cite_note-1\"></a> [^](#cite_ref-1) U.S. Government Accountability Office. (2018). Gender-Related Price Differences for Goods and Services. https://www.gao.gov/assets/gao-18-500.pdf\n",
    "2. <a name=\"cite_note-2\"></a> [^](#cite_ref-2) NYC Department of Consumer and Worker Protection. (2021). From Cradle to Cane: The Cost of Being a Female Consumer. . https://www1.nyc.gov/assets/dca/downloads/pdf/partners/Study-of-Gender-Pricing-in-NYC.pdf \n"
   ]
  },
  {
   "cell_type": "markdown",
   "metadata": {},
   "source": [
    "# Hypothesis\n"
   ]
  },
  {
   "cell_type": "markdown",
   "metadata": {},
   "source": [
    "\n",
    "#### Our hypothesis is that gender-based price disparities are significant in the categories investigated and that women pay more than men for functionally identical products in different clothing categories.\n",
    "\n",
    "We predict that this difference occurs because social norms expect women to put more effort into self-maintenance and appearance which leads to women being usually willing to pay more for products related to beauty. This inclines the sellers to increase the price of women’s products.   \n"
   ]
  },
  {
   "cell_type": "markdown",
   "metadata": {},
   "source": [
    "# Data"
   ]
  },
  {
   "cell_type": "markdown",
   "metadata": {},
   "source": [
    "## Data overview\n",
    "\n",
    "We will be using a dataset from the Zara Clothing Collection which contains information for men's and women’s fashion items in order to answer our research question. You can click on this [link](https://www.kaggle.com/datasets/abhinavtyagi2708/zara-dataset-men-and-women-clothing) to find the data. "
   ]
  },
  {
   "cell_type": "code",
   "execution_count": 1,
   "metadata": {},
   "outputs": [],
   "source": [
    "# import statements\n",
    "import pandas as pd\n",
    "import numpy as numpy"
   ]
  },
  {
   "cell_type": "code",
   "execution_count": 2,
   "metadata": {},
   "outputs": [],
   "source": [
    "# methods to help clean data\n",
    "\n",
    "# return product type depending on which file is being read\n",
    "def getProductType(file):\n",
    "    switch_dict = {\n",
    "        0: 'blazers',\n",
    "        1: 'jackets',\n",
    "        2: 'jeans',\n",
    "        3: 'shirts',\n",
    "        4: 'shoes',\n",
    "        5: 'trousers'\n",
    "    }\n",
    "    return switch_dict.get(file, 'Other')\n",
    "\n",
    "# import the files and add the product type to a new 'product_type' column\n",
    "def import_and_add_product_type(files):\n",
    "    df = pd.DataFrame()\n",
    "    i = 0\n",
    "    df['product_type'] = ''\n",
    "    for file in files:\n",
    "        new_file = pd.read_csv(files[i])\n",
    "        start_index = len(df)\n",
    "        end_index = start_index + len(new_file)\n",
    "        product_type = getProductType(i)\n",
    "        df = pd.concat([df, new_file], ignore_index=True)\n",
    "        df.loc[start_index:(end_index - 1), 'product_type'] = product_type\n",
    "        i += 1\n",
    "        \n",
    "    df = df.reset_index(drop = True)\n",
    "    return df"
   ]
  },
  {
   "cell_type": "markdown",
   "metadata": {},
   "source": [
    "## Dataset #1: Men's Clothing\n",
    "- Total number of observations: 563\n",
    "- Dataset Name: Mens/ Womens Zara Products\n",
    "- Link to dataset: [https://www.kaggle.com/datasets/abhinavtyagi2708/zara-dataset-men-and-women-clothing](https://www.kaggle.com/datasets/abhinavtyagi2708/zara-dataset-men-and-women-clothing)\n",
    "- Description: We will be using a dataset from the Zara Clothing Collection which contains information for men’s fashion items. This dataset includes categories which are listed as follows: shirts, pants, trousers, shorts, suits, jackets, accessories, etc. The features that this specific dataset contains include the following: product name, a brief textual description of the clothing item, images, and price. There were 563 individual observations recorded with 7 columns, but 4 columns were dropped during data cleaning, as they did not contain relevant information in regards to answering our research question.\n"
   ]
  },
  {
   "cell_type": "code",
   "execution_count": 15,
   "metadata": {},
   "outputs": [
    {
     "name": "stdout",
     "output_type": "stream",
     "text": [
      "(563, 7)\n"
     ]
    },
    {
     "data": {
      "text/html": [
       "<div>\n",
       "<style scoped>\n",
       "    .dataframe tbody tr th:only-of-type {\n",
       "        vertical-align: middle;\n",
       "    }\n",
       "\n",
       "    .dataframe tbody tr th {\n",
       "        vertical-align: top;\n",
       "    }\n",
       "\n",
       "    .dataframe thead th {\n",
       "        text-align: right;\n",
       "    }\n",
       "</style>\n",
       "<table border=\"1\" class=\"dataframe\">\n",
       "  <thead>\n",
       "    <tr style=\"text-align: right;\">\n",
       "      <th></th>\n",
       "      <th>product_type</th>\n",
       "      <th>Unnamed: 0</th>\n",
       "      <th>product_name</th>\n",
       "      <th>link</th>\n",
       "      <th>product_images</th>\n",
       "      <th>price</th>\n",
       "      <th>details</th>\n",
       "    </tr>\n",
       "  </thead>\n",
       "  <tbody>\n",
       "    <tr>\n",
       "      <th>0</th>\n",
       "      <td>blazers</td>\n",
       "      <td>0.0</td>\n",
       "      <td>BASIC BLAZER</td>\n",
       "      <td>https://www.zara.com/in/en/basic-blazer-p05899...</td>\n",
       "      <td>[{'https://static.zara.net/photos///2023/I/0/2...</td>\n",
       "      <td>₹ 7,590.00</td>\n",
       "      <td>Straight-fit blazer with a notched lapel colla...</td>\n",
       "    </tr>\n",
       "    <tr>\n",
       "      <th>1</th>\n",
       "      <td>blazers</td>\n",
       "      <td>4.0</td>\n",
       "      <td>100% WOOL SUIT BLAZER - LIMITED EDITION</td>\n",
       "      <td>https://www.zara.com/in/en/100-wool-suit-blaze...</td>\n",
       "      <td>[{'https://static.zara.net/photos///2023/I/0/2...</td>\n",
       "      <td>₹ 11,990.00</td>\n",
       "      <td>Blazer made of wool. Peak lapel collar and lon...</td>\n",
       "    </tr>\n",
       "    <tr>\n",
       "      <th>2</th>\n",
       "      <td>blazers</td>\n",
       "      <td>5.0</td>\n",
       "      <td>100% WOOL SUIT BLAZER</td>\n",
       "      <td>https://www.zara.com/in/en/100-wool-suit-blaze...</td>\n",
       "      <td>[{'https://static.zara.net/photos///2023/I/0/2...</td>\n",
       "      <td>₹ 11,990.00</td>\n",
       "      <td>Blazer made of Italian wool fabric. Notch lape...</td>\n",
       "    </tr>\n",
       "    <tr>\n",
       "      <th>3</th>\n",
       "      <td>blazers</td>\n",
       "      <td>9.0</td>\n",
       "      <td>100% WOOL PINSTRIPE SUIT BLAZER</td>\n",
       "      <td>https://www.zara.com/in/en/100-wool-pinstripe-...</td>\n",
       "      <td>[{'https://static.zara.net/photos///2023/I/0/2...</td>\n",
       "      <td>₹ 11,990.00</td>\n",
       "      <td>Straight fit blazer made of Italian wool fabri...</td>\n",
       "    </tr>\n",
       "    <tr>\n",
       "      <th>4</th>\n",
       "      <td>blazers</td>\n",
       "      <td>11.0</td>\n",
       "      <td>100% WOOL OVERSIZE BLAZER</td>\n",
       "      <td>https://www.zara.com/in/en/100-wool-oversize-b...</td>\n",
       "      <td>[{'https://static.zara.net/photos///2023/I/0/2...</td>\n",
       "      <td>₹ 11,990.00</td>\n",
       "      <td>Oversize blazer made of wool. Notched lapel co...</td>\n",
       "    </tr>\n",
       "    <tr>\n",
       "      <th>5</th>\n",
       "      <td>blazers</td>\n",
       "      <td>13.0</td>\n",
       "      <td>SLIM FIT SUIT BLAZER</td>\n",
       "      <td>https://www.zara.com/in/en/slim-fit-suit-blaze...</td>\n",
       "      <td>[{'https://static.zara.net/photos///2023/I/0/2...</td>\n",
       "      <td>₹ 5,990.00</td>\n",
       "      <td>Blazer with a notched lapel collar. Long sleev...</td>\n",
       "    </tr>\n",
       "    <tr>\n",
       "      <th>6</th>\n",
       "      <td>blazers</td>\n",
       "      <td>23.0</td>\n",
       "      <td>CHECKED SUIT BLAZER</td>\n",
       "      <td>https://www.zara.com/in/en/checked-suit-blazer...</td>\n",
       "      <td>[{'https://static.zara.net/photos///2023/I/0/2...</td>\n",
       "      <td>₹ 9,590.00</td>\n",
       "      <td>Straight fit blazer with a notched lapel colla...</td>\n",
       "    </tr>\n",
       "    <tr>\n",
       "      <th>7</th>\n",
       "      <td>blazers</td>\n",
       "      <td>24.0</td>\n",
       "      <td>CHECKED SUIT BLAZER</td>\n",
       "      <td>https://www.zara.com/in/en/checked-suit-blazer...</td>\n",
       "      <td>[{'https://static.zara.net/photos///2023/I/0/2...</td>\n",
       "      <td>₹ 9,590.00</td>\n",
       "      <td>Regular-fit blazer with a notched lapel collar...</td>\n",
       "    </tr>\n",
       "    <tr>\n",
       "      <th>8</th>\n",
       "      <td>blazers</td>\n",
       "      <td>39.0</td>\n",
       "      <td>SUIT BLAZER</td>\n",
       "      <td>https://www.zara.com/in/en/suit-blazer-p056232...</td>\n",
       "      <td>[{'https://static.zara.net/photos///2023/I/0/2...</td>\n",
       "      <td>₹ 9,590.00</td>\n",
       "      <td>Straight fit blazer with a notched lapel colla...</td>\n",
       "    </tr>\n",
       "    <tr>\n",
       "      <th>9</th>\n",
       "      <td>blazers</td>\n",
       "      <td>41.0</td>\n",
       "      <td>BLAZER WITH POCKETS</td>\n",
       "      <td>https://www.zara.com/in/en/blazer-with-pockets...</td>\n",
       "      <td>[{'https://static.zara.net/photos///2023/I/0/2...</td>\n",
       "      <td>₹ 8,590.00</td>\n",
       "      <td>Relaxed fit blazer with a pointed lapel collar...</td>\n",
       "    </tr>\n",
       "  </tbody>\n",
       "</table>\n",
       "</div>"
      ],
      "text/plain": [
       "  product_type  Unnamed: 0                             product_name  \\\n",
       "0      blazers         0.0                             BASIC BLAZER   \n",
       "1      blazers         4.0  100% WOOL SUIT BLAZER - LIMITED EDITION   \n",
       "2      blazers         5.0                    100% WOOL SUIT BLAZER   \n",
       "3      blazers         9.0          100% WOOL PINSTRIPE SUIT BLAZER   \n",
       "4      blazers        11.0                100% WOOL OVERSIZE BLAZER   \n",
       "5      blazers        13.0                     SLIM FIT SUIT BLAZER   \n",
       "6      blazers        23.0                      CHECKED SUIT BLAZER   \n",
       "7      blazers        24.0                      CHECKED SUIT BLAZER   \n",
       "8      blazers        39.0                              SUIT BLAZER   \n",
       "9      blazers        41.0                      BLAZER WITH POCKETS   \n",
       "\n",
       "                                                link  \\\n",
       "0  https://www.zara.com/in/en/basic-blazer-p05899...   \n",
       "1  https://www.zara.com/in/en/100-wool-suit-blaze...   \n",
       "2  https://www.zara.com/in/en/100-wool-suit-blaze...   \n",
       "3  https://www.zara.com/in/en/100-wool-pinstripe-...   \n",
       "4  https://www.zara.com/in/en/100-wool-oversize-b...   \n",
       "5  https://www.zara.com/in/en/slim-fit-suit-blaze...   \n",
       "6  https://www.zara.com/in/en/checked-suit-blazer...   \n",
       "7  https://www.zara.com/in/en/checked-suit-blazer...   \n",
       "8  https://www.zara.com/in/en/suit-blazer-p056232...   \n",
       "9  https://www.zara.com/in/en/blazer-with-pockets...   \n",
       "\n",
       "                                      product_images        price  \\\n",
       "0  [{'https://static.zara.net/photos///2023/I/0/2...   ₹ 7,590.00   \n",
       "1  [{'https://static.zara.net/photos///2023/I/0/2...  ₹ 11,990.00   \n",
       "2  [{'https://static.zara.net/photos///2023/I/0/2...  ₹ 11,990.00   \n",
       "3  [{'https://static.zara.net/photos///2023/I/0/2...  ₹ 11,990.00   \n",
       "4  [{'https://static.zara.net/photos///2023/I/0/2...  ₹ 11,990.00   \n",
       "5  [{'https://static.zara.net/photos///2023/I/0/2...   ₹ 5,990.00   \n",
       "6  [{'https://static.zara.net/photos///2023/I/0/2...   ₹ 9,590.00   \n",
       "7  [{'https://static.zara.net/photos///2023/I/0/2...   ₹ 9,590.00   \n",
       "8  [{'https://static.zara.net/photos///2023/I/0/2...   ₹ 9,590.00   \n",
       "9  [{'https://static.zara.net/photos///2023/I/0/2...   ₹ 8,590.00   \n",
       "\n",
       "                                             details  \n",
       "0  Straight-fit blazer with a notched lapel colla...  \n",
       "1  Blazer made of wool. Peak lapel collar and lon...  \n",
       "2  Blazer made of Italian wool fabric. Notch lape...  \n",
       "3  Straight fit blazer made of Italian wool fabri...  \n",
       "4  Oversize blazer made of wool. Notched lapel co...  \n",
       "5  Blazer with a notched lapel collar. Long sleev...  \n",
       "6  Straight fit blazer with a notched lapel colla...  \n",
       "7  Regular-fit blazer with a notched lapel collar...  \n",
       "8  Straight fit blazer with a notched lapel colla...  \n",
       "9  Relaxed fit blazer with a pointed lapel collar...  "
      ]
     },
     "execution_count": 15,
     "metadata": {},
     "output_type": "execute_result"
    }
   ],
   "source": [
    "# list of file names\n",
    "men_files = ['../data/BLAZERS_men.csv', '../data/JACKETS_men.csv', '../data/JEANS_men.csv',\n",
    "            '../data/SHIRTS_men.csv', '../data/SHOES_men.csv', '../data/TROUSERS_men.csv']\n",
    "\n",
    "# import data add a 'product_type' column\n",
    "men_data = import_and_add_product_type(men_files)\n",
    "\n",
    "# look at the number of observations\n",
    "print(men_data.shape)\n",
    "\n",
    "men_data.head(10)"
   ]
  },
  {
   "cell_type": "markdown",
   "metadata": {},
   "source": [
    "As you can see, there were 563 individual observations recorded with 7 columns, but we will drop the following columns as they are not useful in the process of comparing prices:\n",
    "- Unnamed: 0\n",
    "- link\n",
    "- product_images\n",
    "- details"
   ]
  },
  {
   "cell_type": "code",
   "execution_count": 6,
   "metadata": {},
   "outputs": [
    {
     "name": "stdout",
     "output_type": "stream",
     "text": [
      "product_type    0\n",
      "product_name    0\n",
      "price           0\n",
      "dtype: int64\n"
     ]
    }
   ],
   "source": [
    "# drop unnecessary columns\n",
    "men_data = men_data.drop(columns = ['Unnamed: 0', 'link', ' product_images', 'details'])\n",
    "\n",
    "# convert categorical variables to lowercase\n",
    "men_data = men_data.apply(lambda x: x.lower() if isinstance(x, str) else x)\n",
    "\n",
    "# check for missing values\n",
    "print(men_data.isna().sum())"
   ]
  },
  {
   "cell_type": "markdown",
   "metadata": {},
   "source": [
    "There are no missing values!"
   ]
  },
  {
   "cell_type": "markdown",
   "metadata": {},
   "source": [
    "## Dataset #2: Women's Clothing\n",
    "- Total number of observations: 796\n",
    "- Dataset Name: Mens/ Womens Zara Products\n",
    "- Link to dataset: [https://www.kaggle.com/datasets/abhinavtyagi2708/zara-dataset-men-and-women-clothing](https://www.kaggle.com/datasets/abhinavtyagi2708/zara-dataset-men-and-women-clothing)\n",
    "- Description: We will be using a second dataset from the Zara Clothing Collection which contains information for women’s fashion items. Categories within this dataset include: shirts, pants, trousers, shorts/ skorts, dresses, jackets, accessories, etc. The features that this specific dataset contains include the following: product name, a brief textual description of the clothing item, images, and price. There were 796 individual observations recorded with 7 columns, but 4 columns were also dropped as they did not contain relevant information in regards to answering our research question.\n"
   ]
  },
  {
   "cell_type": "code",
   "execution_count": 16,
   "metadata": {},
   "outputs": [
    {
     "name": "stdout",
     "output_type": "stream",
     "text": [
      "(796, 7)\n"
     ]
    },
    {
     "data": {
      "text/html": [
       "<div>\n",
       "<style scoped>\n",
       "    .dataframe tbody tr th:only-of-type {\n",
       "        vertical-align: middle;\n",
       "    }\n",
       "\n",
       "    .dataframe tbody tr th {\n",
       "        vertical-align: top;\n",
       "    }\n",
       "\n",
       "    .dataframe thead th {\n",
       "        text-align: right;\n",
       "    }\n",
       "</style>\n",
       "<table border=\"1\" class=\"dataframe\">\n",
       "  <thead>\n",
       "    <tr style=\"text-align: right;\">\n",
       "      <th></th>\n",
       "      <th>product_type</th>\n",
       "      <th>Unnamed: 0</th>\n",
       "      <th>Product_Name</th>\n",
       "      <th>Link</th>\n",
       "      <th>Product_Image</th>\n",
       "      <th>Price</th>\n",
       "      <th>Details</th>\n",
       "    </tr>\n",
       "  </thead>\n",
       "  <tbody>\n",
       "    <tr>\n",
       "      <th>0</th>\n",
       "      <td>blazers</td>\n",
       "      <td>0.0</td>\n",
       "      <td>TAILORED DOUBLE-BREASTED BLAZER</td>\n",
       "      <td>https://www.zara.com/in/en/tailored-double-bre...</td>\n",
       "      <td>[{'https://static.zara.net/photos///2023/I/0/1...</td>\n",
       "      <td>₹ 5,590.00</td>\n",
       "      <td>Blazer featuring a lapel collar with long slee...</td>\n",
       "    </tr>\n",
       "    <tr>\n",
       "      <th>1</th>\n",
       "      <td>blazers</td>\n",
       "      <td>1.0</td>\n",
       "      <td>STRIPE TEXTURED BLAZER</td>\n",
       "      <td>https://www.zara.com/in/en/stripe-textured-bla...</td>\n",
       "      <td>[{'https://static.zara.net/photos///2023/I/0/1...</td>\n",
       "      <td>₹ 5,990.00</td>\n",
       "      <td>Lapelless blazer with long sleeves and shoulde...</td>\n",
       "    </tr>\n",
       "    <tr>\n",
       "      <th>2</th>\n",
       "      <td>blazers</td>\n",
       "      <td>2.0</td>\n",
       "      <td>TAILORED WAISTCOAT</td>\n",
       "      <td>https://www.zara.com/in/en/tailored-waistcoat-...</td>\n",
       "      <td>[{'https://static.zara.net/photos///2023/I/0/1...</td>\n",
       "      <td>₹ 2,990.00</td>\n",
       "      <td>Sleeveless waistcoat with a V-neck. Front jett...</td>\n",
       "    </tr>\n",
       "    <tr>\n",
       "      <th>3</th>\n",
       "      <td>blazers</td>\n",
       "      <td>3.0</td>\n",
       "      <td>STRAIGHT BLAZER</td>\n",
       "      <td>https://www.zara.com/in/en/straight-blazer-p09...</td>\n",
       "      <td>[{'https://static.zara.net/photos///2023/I/0/1...</td>\n",
       "      <td>₹ 4,990.00</td>\n",
       "      <td>Blazer featuring a lapel collar with long slee...</td>\n",
       "    </tr>\n",
       "    <tr>\n",
       "      <th>4</th>\n",
       "      <td>blazers</td>\n",
       "      <td>4.0</td>\n",
       "      <td>BLAZER WITH ROLLED-UP SLEEVES</td>\n",
       "      <td>https://www.zara.com/in/en/blazer-with-rolled-...</td>\n",
       "      <td>[{'https://static.zara.net/photos///2023/I/0/1...</td>\n",
       "      <td>₹ 4,490.00</td>\n",
       "      <td>Open blazer with a lapel collar and padded sho...</td>\n",
       "    </tr>\n",
       "    <tr>\n",
       "      <th>5</th>\n",
       "      <td>blazers</td>\n",
       "      <td>5.0</td>\n",
       "      <td>HIGH NECK TEXTURED BLAZER</td>\n",
       "      <td>https://www.zara.com/in/en/high-neck-textured-...</td>\n",
       "      <td>[{'https://static.zara.net/photos///2023/I/0/1...</td>\n",
       "      <td>₹ 5,990.00</td>\n",
       "      <td>Blazer featuring a high neck and long sleeves ...</td>\n",
       "    </tr>\n",
       "    <tr>\n",
       "      <th>6</th>\n",
       "      <td>blazers</td>\n",
       "      <td>6.0</td>\n",
       "      <td>SHORT TAILORED WAISTCOAT</td>\n",
       "      <td>https://www.zara.com/in/en/short-tailored-wais...</td>\n",
       "      <td>[{'https://static.zara.net/photos///2023/I/0/1...</td>\n",
       "      <td>₹ 2,990.00</td>\n",
       "      <td>V-neck waistcoat. Featuring false welt pockets...</td>\n",
       "    </tr>\n",
       "    <tr>\n",
       "      <th>7</th>\n",
       "      <td>blazers</td>\n",
       "      <td>7.0</td>\n",
       "      <td>FITTED BLAZER WITH SEAMS</td>\n",
       "      <td>https://www.zara.com/in/en/fitted-blazer-with-...</td>\n",
       "      <td>[{'https://static.zara.net/photos///2023/I/0/1...</td>\n",
       "      <td>₹ 5,990.00</td>\n",
       "      <td>Blazer with a lapel collar and long sleeves wi...</td>\n",
       "    </tr>\n",
       "    <tr>\n",
       "      <th>8</th>\n",
       "      <td>blazers</td>\n",
       "      <td>10.0</td>\n",
       "      <td>LONG BLAZER WITH BELT</td>\n",
       "      <td>https://www.zara.com/in/en/long-blazer-with-be...</td>\n",
       "      <td>[{'https://static.zara.net/photos///2023/I/0/1...</td>\n",
       "      <td>₹ 7,590.00</td>\n",
       "      <td>Blazer with a lapel collar, long sleeves and s...</td>\n",
       "    </tr>\n",
       "    <tr>\n",
       "      <th>9</th>\n",
       "      <td>blazers</td>\n",
       "      <td>11.0</td>\n",
       "      <td>CROPPED BLAZER WITH FEATHERS</td>\n",
       "      <td>https://www.zara.com/in/en/cropped-blazer-with...</td>\n",
       "      <td>[{'https://static.zara.net/photos///2023/I/0/1...</td>\n",
       "      <td>₹ 11,990.00</td>\n",
       "      <td>Cropped blazer featuring a lapel collar and lo...</td>\n",
       "    </tr>\n",
       "  </tbody>\n",
       "</table>\n",
       "</div>"
      ],
      "text/plain": [
       "  product_type  Unnamed: 0                     Product_Name  \\\n",
       "0      blazers         0.0  TAILORED DOUBLE-BREASTED BLAZER   \n",
       "1      blazers         1.0           STRIPE TEXTURED BLAZER   \n",
       "2      blazers         2.0               TAILORED WAISTCOAT   \n",
       "3      blazers         3.0                  STRAIGHT BLAZER   \n",
       "4      blazers         4.0    BLAZER WITH ROLLED-UP SLEEVES   \n",
       "5      blazers         5.0        HIGH NECK TEXTURED BLAZER   \n",
       "6      blazers         6.0         SHORT TAILORED WAISTCOAT   \n",
       "7      blazers         7.0         FITTED BLAZER WITH SEAMS   \n",
       "8      blazers        10.0            LONG BLAZER WITH BELT   \n",
       "9      blazers        11.0     CROPPED BLAZER WITH FEATHERS   \n",
       "\n",
       "                                                Link  \\\n",
       "0  https://www.zara.com/in/en/tailored-double-bre...   \n",
       "1  https://www.zara.com/in/en/stripe-textured-bla...   \n",
       "2  https://www.zara.com/in/en/tailored-waistcoat-...   \n",
       "3  https://www.zara.com/in/en/straight-blazer-p09...   \n",
       "4  https://www.zara.com/in/en/blazer-with-rolled-...   \n",
       "5  https://www.zara.com/in/en/high-neck-textured-...   \n",
       "6  https://www.zara.com/in/en/short-tailored-wais...   \n",
       "7  https://www.zara.com/in/en/fitted-blazer-with-...   \n",
       "8  https://www.zara.com/in/en/long-blazer-with-be...   \n",
       "9  https://www.zara.com/in/en/cropped-blazer-with...   \n",
       "\n",
       "                                       Product_Image        Price  \\\n",
       "0  [{'https://static.zara.net/photos///2023/I/0/1...   ₹ 5,590.00   \n",
       "1  [{'https://static.zara.net/photos///2023/I/0/1...   ₹ 5,990.00   \n",
       "2  [{'https://static.zara.net/photos///2023/I/0/1...   ₹ 2,990.00   \n",
       "3  [{'https://static.zara.net/photos///2023/I/0/1...   ₹ 4,990.00   \n",
       "4  [{'https://static.zara.net/photos///2023/I/0/1...   ₹ 4,490.00   \n",
       "5  [{'https://static.zara.net/photos///2023/I/0/1...   ₹ 5,990.00   \n",
       "6  [{'https://static.zara.net/photos///2023/I/0/1...   ₹ 2,990.00   \n",
       "7  [{'https://static.zara.net/photos///2023/I/0/1...   ₹ 5,990.00   \n",
       "8  [{'https://static.zara.net/photos///2023/I/0/1...   ₹ 7,590.00   \n",
       "9  [{'https://static.zara.net/photos///2023/I/0/1...  ₹ 11,990.00   \n",
       "\n",
       "                                             Details  \n",
       "0  Blazer featuring a lapel collar with long slee...  \n",
       "1  Lapelless blazer with long sleeves and shoulde...  \n",
       "2  Sleeveless waistcoat with a V-neck. Front jett...  \n",
       "3  Blazer featuring a lapel collar with long slee...  \n",
       "4  Open blazer with a lapel collar and padded sho...  \n",
       "5  Blazer featuring a high neck and long sleeves ...  \n",
       "6  V-neck waistcoat. Featuring false welt pockets...  \n",
       "7  Blazer with a lapel collar and long sleeves wi...  \n",
       "8  Blazer with a lapel collar, long sleeves and s...  \n",
       "9  Cropped blazer featuring a lapel collar and lo...  "
      ]
     },
     "execution_count": 16,
     "metadata": {},
     "output_type": "execute_result"
    }
   ],
   "source": [
    "# list of file names\n",
    "women_files = ['../data/BLAZERS_women.csv', '../data/JACKETS_women.csv', '../data/JEANS_women.csv',\n",
    "                '../data/SHIRTS_women.csv', '../data/SHOES_women.csv', '../data/TROUSERS_women.csv']\n",
    "\n",
    "# import data and add a 'product_type' column\n",
    "women_data = import_and_add_product_type(women_files)\n",
    "\n",
    "# look at the number of observations\n",
    "print(women_data.shape)\n",
    "\n",
    "women_data.head(10)"
   ]
  },
  {
   "cell_type": "markdown",
   "metadata": {},
   "source": [
    "As you can see, there were 796 individual observations recorded with 7 columns, but we will drop the following columns as they are not useful in the process of comparing prices:\n",
    "- Unnamed: 0\n",
    "- Link\n",
    "- Product_Image\n",
    "- Details"
   ]
  },
  {
   "cell_type": "code",
   "execution_count": 8,
   "metadata": {},
   "outputs": [
    {
     "name": "stdout",
     "output_type": "stream",
     "text": [
      "product_type    0\n",
      "product_name    2\n",
      "price           0\n",
      "dtype: int64\n"
     ]
    }
   ],
   "source": [
    "# drop unnecessary columns\n",
    "women_data = women_data.drop(columns = ['Unnamed: 0', 'Link', 'Product_Image', 'Details'])\n",
    "\n",
    "# convert categorical variables to lowercase\n",
    "women_data = women_data.apply(lambda x: x.lower() if isinstance(x, str) else x)\n",
    "women_data.columns = women_data.columns.str.lower()\n",
    "\n",
    "# check for missing values\n",
    "print(women_data.isna().sum())"
   ]
  },
  {
   "cell_type": "markdown",
   "metadata": {},
   "source": [
    "There are two missing values in the Product_Name column, so let's see what entries those are."
   ]
  },
  {
   "cell_type": "code",
   "execution_count": 9,
   "metadata": {},
   "outputs": [
    {
     "name": "stdout",
     "output_type": "stream",
     "text": [
      "    product_type product_name       price\n",
      "590        shoes          NaN  ₹ 2,890.00\n",
      "645        shoes          NaN  ₹ 5,590.00\n"
     ]
    }
   ],
   "source": [
    "# finding rows with missing values\n",
    "print(women_data[women_data['product_name'].isna()])"
   ]
  },
  {
   "cell_type": "markdown",
   "metadata": {},
   "source": [
    "Since only the product name is missing, we will just replace the name with \"shoes\" which is the product type, as this does not affect the analysis of the price."
   ]
  },
  {
   "cell_type": "code",
   "execution_count": 10,
   "metadata": {},
   "outputs": [
    {
     "name": "stdout",
     "output_type": "stream",
     "text": [
      "product_type    0\n",
      "product_name    0\n",
      "price           0\n",
      "dtype: int64\n"
     ]
    }
   ],
   "source": [
    "# set the missing product_name to 'trousers'\n",
    "women_data[women_data['product_name'].isna()] = 'shoes'\n",
    "\n",
    "# check to ensure no more missing values\n",
    "print(women_data.isna().sum())"
   ]
  },
  {
   "cell_type": "markdown",
   "metadata": {},
   "source": [
    "## Price Conversion\n",
    "Now, we have to convert the rupees into U.S. dollars. The conversion rate is 1 rupee = 0.012 USD."
   ]
  },
  {
   "cell_type": "code",
   "execution_count": 11,
   "metadata": {},
   "outputs": [],
   "source": [
    "# delete rupee symbol and comma\n",
    "men_data['price'] = pd.to_numeric(men_data['price'].str.replace('[^\\d.]', '', regex=True))\n",
    "women_data['price'] = pd.to_numeric(women_data['price'].str.replace('[^\\d.]', '', regex=True))\n",
    "\n",
    "# apply the conversion between rupees and USD\n",
    "men_data['price'] = men_data['price'].apply(lambda x: x * 0.012)\n",
    "women_data['price'] = women_data['price'].apply(lambda x: x * 0.012)\n",
    "\n",
    "# rename the 'price' column to 'price_dollars'\n",
    "men_data = men_data.rename(columns={'price': 'price_dollars'})\n",
    "women_data = women_data.rename(columns={'price': 'price_dollars'})"
   ]
  },
  {
   "cell_type": "markdown",
   "metadata": {},
   "source": [
    "Finally, we can display the data."
   ]
  },
  {
   "cell_type": "code",
   "execution_count": 12,
   "metadata": {},
   "outputs": [
    {
     "data": {
      "text/html": [
       "<div>\n",
       "<style scoped>\n",
       "    .dataframe tbody tr th:only-of-type {\n",
       "        vertical-align: middle;\n",
       "    }\n",
       "\n",
       "    .dataframe tbody tr th {\n",
       "        vertical-align: top;\n",
       "    }\n",
       "\n",
       "    .dataframe thead th {\n",
       "        text-align: right;\n",
       "    }\n",
       "</style>\n",
       "<table border=\"1\" class=\"dataframe\">\n",
       "  <thead>\n",
       "    <tr style=\"text-align: right;\">\n",
       "      <th></th>\n",
       "      <th>product_type</th>\n",
       "      <th>product_name</th>\n",
       "      <th>price_dollars</th>\n",
       "    </tr>\n",
       "  </thead>\n",
       "  <tbody>\n",
       "    <tr>\n",
       "      <th>0</th>\n",
       "      <td>blazers</td>\n",
       "      <td>BASIC BLAZER</td>\n",
       "      <td>91.08</td>\n",
       "    </tr>\n",
       "    <tr>\n",
       "      <th>1</th>\n",
       "      <td>blazers</td>\n",
       "      <td>100% WOOL SUIT BLAZER - LIMITED EDITION</td>\n",
       "      <td>143.88</td>\n",
       "    </tr>\n",
       "    <tr>\n",
       "      <th>2</th>\n",
       "      <td>blazers</td>\n",
       "      <td>100% WOOL SUIT BLAZER</td>\n",
       "      <td>143.88</td>\n",
       "    </tr>\n",
       "    <tr>\n",
       "      <th>3</th>\n",
       "      <td>blazers</td>\n",
       "      <td>100% WOOL PINSTRIPE SUIT BLAZER</td>\n",
       "      <td>143.88</td>\n",
       "    </tr>\n",
       "    <tr>\n",
       "      <th>4</th>\n",
       "      <td>blazers</td>\n",
       "      <td>100% WOOL OVERSIZE BLAZER</td>\n",
       "      <td>143.88</td>\n",
       "    </tr>\n",
       "    <tr>\n",
       "      <th>5</th>\n",
       "      <td>blazers</td>\n",
       "      <td>SLIM FIT SUIT BLAZER</td>\n",
       "      <td>71.88</td>\n",
       "    </tr>\n",
       "    <tr>\n",
       "      <th>6</th>\n",
       "      <td>blazers</td>\n",
       "      <td>CHECKED SUIT BLAZER</td>\n",
       "      <td>115.08</td>\n",
       "    </tr>\n",
       "    <tr>\n",
       "      <th>7</th>\n",
       "      <td>blazers</td>\n",
       "      <td>CHECKED SUIT BLAZER</td>\n",
       "      <td>115.08</td>\n",
       "    </tr>\n",
       "    <tr>\n",
       "      <th>8</th>\n",
       "      <td>blazers</td>\n",
       "      <td>SUIT BLAZER</td>\n",
       "      <td>115.08</td>\n",
       "    </tr>\n",
       "    <tr>\n",
       "      <th>9</th>\n",
       "      <td>blazers</td>\n",
       "      <td>BLAZER WITH POCKETS</td>\n",
       "      <td>103.08</td>\n",
       "    </tr>\n",
       "  </tbody>\n",
       "</table>\n",
       "</div>"
      ],
      "text/plain": [
       "  product_type                             product_name  price_dollars\n",
       "0      blazers                             BASIC BLAZER          91.08\n",
       "1      blazers  100% WOOL SUIT BLAZER - LIMITED EDITION         143.88\n",
       "2      blazers                    100% WOOL SUIT BLAZER         143.88\n",
       "3      blazers          100% WOOL PINSTRIPE SUIT BLAZER         143.88\n",
       "4      blazers                100% WOOL OVERSIZE BLAZER         143.88\n",
       "5      blazers                     SLIM FIT SUIT BLAZER          71.88\n",
       "6      blazers                      CHECKED SUIT BLAZER         115.08\n",
       "7      blazers                      CHECKED SUIT BLAZER         115.08\n",
       "8      blazers                              SUIT BLAZER         115.08\n",
       "9      blazers                      BLAZER WITH POCKETS         103.08"
      ]
     },
     "execution_count": 12,
     "metadata": {},
     "output_type": "execute_result"
    }
   ],
   "source": [
    "men_data.head(10)"
   ]
  },
  {
   "cell_type": "code",
   "execution_count": null,
   "metadata": {},
   "outputs": [
    {
     "data": {
      "text/html": [
       "<div>\n",
       "<style scoped>\n",
       "    .dataframe tbody tr th:only-of-type {\n",
       "        vertical-align: middle;\n",
       "    }\n",
       "\n",
       "    .dataframe tbody tr th {\n",
       "        vertical-align: top;\n",
       "    }\n",
       "\n",
       "    .dataframe thead th {\n",
       "        text-align: right;\n",
       "    }\n",
       "</style>\n",
       "<table border=\"1\" class=\"dataframe\">\n",
       "  <thead>\n",
       "    <tr style=\"text-align: right;\">\n",
       "      <th></th>\n",
       "      <th>product_type</th>\n",
       "      <th>product_name</th>\n",
       "      <th>price_dollars</th>\n",
       "    </tr>\n",
       "  </thead>\n",
       "  <tbody>\n",
       "    <tr>\n",
       "      <th>0</th>\n",
       "      <td>blazers</td>\n",
       "      <td>TAILORED DOUBLE-BREASTED BLAZER</td>\n",
       "      <td>67.08</td>\n",
       "    </tr>\n",
       "    <tr>\n",
       "      <th>1</th>\n",
       "      <td>blazers</td>\n",
       "      <td>STRIPE TEXTURED BLAZER</td>\n",
       "      <td>71.88</td>\n",
       "    </tr>\n",
       "    <tr>\n",
       "      <th>2</th>\n",
       "      <td>blazers</td>\n",
       "      <td>TAILORED WAISTCOAT</td>\n",
       "      <td>35.88</td>\n",
       "    </tr>\n",
       "    <tr>\n",
       "      <th>3</th>\n",
       "      <td>blazers</td>\n",
       "      <td>STRAIGHT BLAZER</td>\n",
       "      <td>59.88</td>\n",
       "    </tr>\n",
       "    <tr>\n",
       "      <th>4</th>\n",
       "      <td>blazers</td>\n",
       "      <td>BLAZER WITH ROLLED-UP SLEEVES</td>\n",
       "      <td>53.88</td>\n",
       "    </tr>\n",
       "    <tr>\n",
       "      <th>5</th>\n",
       "      <td>blazers</td>\n",
       "      <td>HIGH NECK TEXTURED BLAZER</td>\n",
       "      <td>71.88</td>\n",
       "    </tr>\n",
       "    <tr>\n",
       "      <th>6</th>\n",
       "      <td>blazers</td>\n",
       "      <td>SHORT TAILORED WAISTCOAT</td>\n",
       "      <td>35.88</td>\n",
       "    </tr>\n",
       "    <tr>\n",
       "      <th>7</th>\n",
       "      <td>blazers</td>\n",
       "      <td>FITTED BLAZER WITH SEAMS</td>\n",
       "      <td>71.88</td>\n",
       "    </tr>\n",
       "    <tr>\n",
       "      <th>8</th>\n",
       "      <td>blazers</td>\n",
       "      <td>LONG BLAZER WITH BELT</td>\n",
       "      <td>91.08</td>\n",
       "    </tr>\n",
       "    <tr>\n",
       "      <th>9</th>\n",
       "      <td>blazers</td>\n",
       "      <td>CROPPED BLAZER WITH FEATHERS</td>\n",
       "      <td>143.88</td>\n",
       "    </tr>\n",
       "  </tbody>\n",
       "</table>\n",
       "</div>"
      ],
      "text/plain": [
       "  product_type                     product_name  price_dollars\n",
       "0      blazers  TAILORED DOUBLE-BREASTED BLAZER          67.08\n",
       "1      blazers           STRIPE TEXTURED BLAZER          71.88\n",
       "2      blazers               TAILORED WAISTCOAT          35.88\n",
       "3      blazers                  STRAIGHT BLAZER          59.88\n",
       "4      blazers    BLAZER WITH ROLLED-UP SLEEVES          53.88\n",
       "5      blazers        HIGH NECK TEXTURED BLAZER          71.88\n",
       "6      blazers         SHORT TAILORED WAISTCOAT          35.88\n",
       "7      blazers         FITTED BLAZER WITH SEAMS          71.88\n",
       "8      blazers            LONG BLAZER WITH BELT          91.08\n",
       "9      blazers     CROPPED BLAZER WITH FEATHERS         143.88"
      ]
     },
     "metadata": {},
     "output_type": "display_data"
    }
   ],
   "source": [
    "women_data.head(10)"
   ]
  },
  {
   "cell_type": "markdown",
   "metadata": {},
   "source": [
    "# Results\n",
    "\n",
    "## Exploratory Data Analysis\n"
   ]
  },
  {
   "cell_type": "markdown",
   "metadata": {},
   "source": [
    "### Data Overview\n",
    "\n",
    "First, let's look at the summary of our data sets to see the overall distribution of price of men's and women's fashion items in Zara."
   ]
  },
  {
   "cell_type": "code",
   "execution_count": null,
   "metadata": {},
   "outputs": [
    {
     "name": "stdout",
     "output_type": "stream",
     "text": [
      "       price_dollars\n",
      "count     563.000000\n",
      "mean       57.673961\n",
      "std        25.122417\n",
      "min        17.880000\n",
      "25%        39.480000\n",
      "50%        47.880000\n",
      "75%        59.880000\n",
      "max       191.880000 \n",
      " \n",
      "        price_dollars\n",
      "count     793.000000\n",
      "mean       50.370794\n",
      "std        18.846724\n",
      "min        23.880000\n",
      "25%        35.880000\n",
      "50%        39.480000\n",
      "75%        59.880000\n",
      "max       155.880000\n"
     ]
    }
   ],
   "source": [
    "# import plotting statements\n",
    "import seaborn as sns\n",
    "import matplotlib.pyplot as plt\n",
    "\n",
    "print(men_data.describe(),'\\n','\\n', women_data.describe())"
   ]
  },
  {
   "cell_type": "code",
   "execution_count": null,
   "metadata": {},
   "outputs": [
    {
     "name": "stdout",
     "output_type": "stream",
     "text": [
      "57.67396092362344 50.3707944514502\n",
      "25.12241698863356 18.846724348974675\n"
     ]
    }
   ],
   "source": [
    "print(men_data['price_dollars'].mean(),women_data['price_dollars'].mean())\n",
    "print(men_data['price_dollars'].std(),women_data['price_dollars'].std())"
   ]
  },
  {
   "cell_type": "markdown",
   "metadata": {},
   "source": [
    "From the summary of data we have above, the price of clothing items for men has a higher mean as well as more varience in its distribution. This may suggest that men actually pays more for clothing items than women. \n",
    "\n",
    "However, there are two things in the data to be considered. \n",
    "\n",
    "* For the comparable categories we selected, while they are functionally similar, the total number of women's clothing items is greater than men's by around 40%. This suggests that the brand, at least in the categories selected, caters more towards its female customers and is therefore more likely to provide female items in an affordable and controlled price range than male ones. \n",
    "\n",
    "\n",
    "\n",
    "* Since we have different counts and different distribution across categories for the men and women datasets, it is important to determine if this result is skewed due to a particular category in which the male version is offered in more counts and higher price than the female version.\n"
   ]
  },
  {
   "cell_type": "markdown",
   "metadata": {},
   "source": [
    "Let's first look the breakdown of the distribution of price in each of the clothing categories."
   ]
  },
  {
   "cell_type": "code",
   "execution_count": null,
   "metadata": {},
   "outputs": [
    {
     "data": {
      "image/png": "[encoded data removed]",
      "text/plain": [
       "<Figure size 720x360 with 1 Axes>"
      ]
     },
     "metadata": {},
     "output_type": "display_data"
    }
   ],
   "source": [
    "# distribution of the price of all of men and women's clothing items \n",
    "plt.figure(figsize=(10,5))\n",
    "sns.histplot(men_data['price_dollars'], bins=20, color='skyblue')\n",
    "sns.histplot(women_data['price_dollars'], bins=20, color='lightpink')\n",
    "plt.xlabel('Price')\n",
    "plt.show()"
   ]
  },
  {
   "cell_type": "code",
   "execution_count": null,
   "metadata": {},
   "outputs": [
    {
     "data": {
      "image/png": "[encoded data removed]",
      "text/plain": [
       "<Figure size 576x360 with 1 Axes>"
      ]
     },
     "metadata": {},
     "output_type": "display_data"
    }
   ],
   "source": [
    "# densityplot of the price of all of men and women's clothing items \n",
    "plt.figure(figsize=(8,5))\n",
    "sns.kdeplot(men_data['price_dollars'], color='skyblue')\n",
    "sns.kdeplot(women_data['price_dollars'], color='lightpink')\n",
    "plt.xlabel('Price')\n",
    "plt.show()"
   ]
  },
  {
   "cell_type": "markdown",
   "metadata": {},
   "source": [
    "Looking at the above plots, we can see that while the prices for men and women are both densely distributed below 50 dollars, more women's items are within the lower range. \n",
    "\n",
    "\n",
    "There is drastic decrease in the density of female items' price distribution as it approaches 50 dollars while the dip in male items' distribution is much less apparent with quite a few of them around 50 to 60 dollars. This is in accordance with what we presumed previously regarding the brand. \n"
   ]
  },
  {
   "cell_type": "markdown",
   "metadata": {},
   "source": [
    "#### Inferential Tests"
   ]
  },
  {
   "cell_type": "markdown",
   "metadata": {},
   "source": [
    "As our sample and datasets are non-parametric data, let's apply the Mann-Whitney U test to further investigate our prior findings with the following null and alternative hypothesis\n",
    "\n",
    "H<sub>0</sub>= There is no diffference for the price distribution of men and women's clothing items.\n",
    "\n",
    "H<sub>a</sub>= Men's clothing items have a higher price distribution than women's. "
   ]
  },
  {
   "cell_type": "code",
   "execution_count": null,
   "metadata": {},
   "outputs": [
    {
     "name": "stdout",
     "output_type": "stream",
     "text": [
      "p-value= 9.071820668370416e-10\n"
     ]
    }
   ],
   "source": [
    "from scipy.stats import mannwhitneyu\n",
    "\n",
    "Stat, p= mannwhitneyu(men_data['price_dollars'],women_data['price_dollars'],alternative='greater')\n",
    "print('p-value=',p)"
   ]
  },
  {
   "cell_type": "markdown",
   "metadata": {},
   "source": [
    "This is strong statistical proof to reject H<sub>0</sub> and suggest that the prices of our selected categories of male and female clothings as a whole do not represent the same population and that there is indeed a price difference of men's clothing items being more expensive."
   ]
  },
  {
   "cell_type": "markdown",
   "metadata": {},
   "source": [
    "While this already goes against our initial prediction, one of the things we are also trying to investigate in our research question is the distribution of such differences across different categories which may help us understand what's leading such a difference. "
   ]
  },
  {
   "cell_type": "markdown",
   "metadata": {},
   "source": [
    "### Category Analysis\n",
    "\n",
    "\n",
    "Now, let's look at the distribution of individual categories."
   ]
  },
  {
   "cell_type": "code",
   "execution_count": null,
   "metadata": {},
   "outputs": [
    {
     "name": "stdout",
     "output_type": "stream",
     "text": [
      "                 p-val\n",
      "blazers   2.358819e-06\n",
      "jackets   2.524207e-05\n",
      "jeans     2.131487e-02\n",
      "shirts    1.127488e-13\n",
      "shoes     4.609696e-02\n",
      "trousers  2.369563e-10\n"
     ]
    }
   ],
   "source": [
    "# the distribution of the prices of blazers\n",
    "men_blazers = men_data[men_data['product_type'] == 'blazers']\n",
    "women_blazers = women_data[women_data['product_type'] == 'blazers']\n",
    "# the distribution of the prices of jackets\n",
    "men_jackets = men_data[men_data['product_type'] == 'jackets']\n",
    "women_jackets = women_data[women_data['product_type'] == 'jackets']\n",
    "# the distribution of the prices of jeans\n",
    "men_jeans = men_data[men_data['product_type'] == 'jeans']\n",
    "women_jeans = women_data[women_data['product_type'] == 'jeans']\n",
    "# the distribution of the prices of shirts\n",
    "men_shirts = men_data[men_data['product_type'] == 'shirts']\n",
    "women_shirts = women_data[women_data['product_type'] == 'shirts']\n",
    "# the distribution of the prices of shoes\n",
    "men_shoes = men_data[men_data['product_type'] == 'shoes']\n",
    "women_shoes = women_data[women_data['product_type'] == 'shoes']\n",
    "# the distribution of the prices of trousers\n",
    "men_trousers = men_data[men_data['product_type'] == 'trousers']\n",
    "women_trousers = women_data[women_data['product_type'] == 'trousers']\n",
    "\n",
    "Stat_bz, p_bz= mannwhitneyu(men_blazers['price_dollars'],women_blazers['price_dollars'])\n",
    "Stat_jk, p_jk= mannwhitneyu(men_jackets['price_dollars'],women_jackets['price_dollars'])\n",
    "Stat_jn, p_jn= mannwhitneyu(men_jeans['price_dollars'],women_jeans['price_dollars'])\n",
    "Stat_st, p_st= mannwhitneyu(men_shirts['price_dollars'],women_shirts['price_dollars'])\n",
    "Stat_sh, p_sh= mannwhitneyu(men_shoes['price_dollars'],women_shoes['price_dollars'])\n",
    "Stat_tr, p_tr= mannwhitneyu(men_trousers['price_dollars'],women_trousers['price_dollars'])\n",
    "\n",
    "#take a look at p-value across categories\n",
    "p_val=pd.DataFrame([p_bz,p_jk,p_jn,p_st,p_sh,p_tr])\n",
    "p_val.index=['blazers','jackets','jeans','shirts','shoes','trousers']\n",
    "p_val.columns=['p-val']\n",
    "print(p_val)\n"
   ]
  },
  {
   "cell_type": "markdown",
   "metadata": {},
   "source": [
    "The DataFrame above shows the p-value of the test on each individual categories. At a glance, all categories seem to be statistically significant in their differences except for jeans and shoes. This helps separate our categories into two groups. \n",
    "\n",
    "Let's look at the distribution of exceptions below in more detail. "
   ]
  },
  {
   "cell_type": "markdown",
   "metadata": {},
   "source": [
    "**Starting with jeans:**"
   ]
  },
  {
   "cell_type": "code",
   "execution_count": null,
   "metadata": {},
   "outputs": [
    {
     "name": "stdout",
     "output_type": "stream",
     "text": [
      "       price_dollars\n",
      "count      15.000000\n",
      "mean       53.960000\n",
      "std        13.465893\n",
      "min        29.880000\n",
      "25%        43.680000\n",
      "50%        59.880000\n",
      "75%        59.880000\n",
      "max        71.880000 \n",
      " \n",
      "        price_dollars\n",
      "count      15.000000\n",
      "mean       42.600000\n",
      "std         9.080214\n",
      "min        35.880000\n",
      "25%        37.680000\n",
      "50%        39.480000\n",
      "75%        39.480000\n",
      "max        59.880000\n"
     ]
    }
   ],
   "source": [
    "print(men_jeans.describe(),'\\n','\\n', women_jeans.describe())"
   ]
  },
  {
   "cell_type": "code",
   "execution_count": null,
   "metadata": {},
   "outputs": [
    {
     "data": {
      "image/png": "[encoded data removed]",
      "text/plain": [
       "<Figure size 576x360 with 1 Axes>"
      ]
     },
     "metadata": {},
     "output_type": "display_data"
    }
   ],
   "source": [
    "plt.figure(figsize=(8,5))\n",
    "sns.histplot(data=women_jeans, x='price_dollars', bins=10, color='lightpink', label=\"Women's Jeans\")\n",
    "sns.histplot(data=men_jeans, x='price_dollars', bins=10, color='skyblue', label=\"Men's Jeans\")\n",
    "\n",
    "plt.xlabel('Price')\n",
    "plt.ylabel('Count')\n",
    "plt.legend()\n",
    "\n",
    "plt.show()"
   ]
  },
  {
   "cell_type": "markdown",
   "metadata": {},
   "source": [
    "From the histogram, we can see that due to the small count of data, both men and women's price distributions are  irregular in their clusters and peaks and does not exhibit a clear pattern. Overall, men's jeans seem to have more counts in the upper price range than women's jeans and that the common price range for men's jeans is higher than women's.\n",
    "\n",
    "We can see more of this disparity in the boxplot below."
   ]
  },
  {
   "cell_type": "code",
   "execution_count": null,
   "metadata": {},
   "outputs": [
    {
     "data": {
      "image/png": "[encoded data removed]",
      "text/plain": [
       "<Figure size 576x360 with 2 Axes>"
      ]
     },
     "metadata": {},
     "output_type": "display_data"
    },
    {
     "name": "stdout",
     "output_type": "stream",
     "text": [
      "The range of the price of men's jeans is 42.0\n",
      "The range of the price of women's jeans is 24.0\n"
     ]
    }
   ],
   "source": [
    "# price range of jeans\n",
    "price_min = min(men_jeans['price_dollars'].min(), women_jeans['price_dollars'].min())-5\n",
    "price_max = max(men_jeans['price_dollars'].max(), women_jeans['price_dollars'].max())+5\n",
    "\n",
    "\n",
    "plt.figure(figsize=(8,5))\n",
    "\n",
    "plt.subplot(2, 1, 1)\n",
    "sns.boxplot(data=men_jeans, x='price_dollars', color='skyblue')\n",
    "plt.title(\"Men's Jeans\")\n",
    "plt.xlabel('')\n",
    "plt.xticks([])\n",
    "plt.xlim(price_min, price_max)\n",
    "\n",
    "plt.subplot(2, 1, 2)\n",
    "sns.boxplot(data=women_jeans, x='price_dollars', color='lightpink')\n",
    "plt.title(\"Women's Jeans\")\n",
    "plt.xlim(price_min, price_max)\n",
    "plt.xlabel('Price')\n",
    "\n",
    "plt.show()\n",
    "print(\"The range of the price of men's jeans is \" + str(men_jeans['price_dollars'].max()-men_jeans['price_dollars'].min()))\n",
    "print(\"The range of the price of women's jeans is \" + str(women_jeans['price_dollars'].max()-women_jeans['price_dollars'].min()))"
   ]
  },
  {
   "cell_type": "markdown",
   "metadata": {},
   "source": [
    "From the boxplot, the differences between the two datasets are even more apparent especially in their price range. The p-value, therefore, appears to be inconclusive in determining the real price differences for this category due to the small dataset which also limits any further analysis.  "
   ]
  },
  {
   "cell_type": "markdown",
   "metadata": {},
   "source": [
    "**As the price distribution of jeans turn out to be inconclusive due to small data size, let's look at shoes under similar approach:**"
   ]
  },
  {
   "cell_type": "code",
   "execution_count": null,
   "metadata": {},
   "outputs": [
    {
     "name": "stdout",
     "output_type": "stream",
     "text": [
      "       price_dollars\n",
      "count     166.000000\n",
      "mean       59.865542\n",
      "std        26.011350\n",
      "min        17.880000\n",
      "25%        39.480000\n",
      "50%        55.080000\n",
      "75%        71.880000\n",
      "max       143.880000 \n",
      " \n",
      "        price_dollars\n",
      "count     281.000000\n",
      "mean       53.487117\n",
      "std        19.300435\n",
      "min        23.880000\n",
      "25%        39.480000\n",
      "50%        47.880000\n",
      "75%        67.080000\n",
      "max       155.880000\n"
     ]
    }
   ],
   "source": [
    "print(men_shoes.describe(),'\\n','\\n', women_shoes.describe())"
   ]
  },
  {
   "cell_type": "code",
   "execution_count": null,
   "metadata": {},
   "outputs": [
    {
     "data": {
      "image/png": "[encoded data removed]",
      "text/plain": [
       "<Figure size 576x360 with 1 Axes>"
      ]
     },
     "metadata": {},
     "output_type": "display_data"
    }
   ],
   "source": [
    "plt.figure(figsize=(8,5))\n",
    "sns.histplot(data=women_shoes, x='price_dollars', bins=10, color='lightpink', label=\"Women's Shoes\")\n",
    "sns.histplot(data=men_shoes, x='price_dollars', bins=10, color='skyblue', label=\"Men's Shoes\")\n",
    "\n",
    "plt.xlabel('Price')\n",
    "plt.ylabel('Count')\n",
    "plt.legend()\n",
    "\n",
    "plt.show()"
   ]
  },
  {
   "cell_type": "markdown",
   "metadata": {},
   "source": [
    "From the histogram, we can see that the price distributions of both women's and men's shoes are positively skewed and looks more parametric in its shape. The central tendency of both women's and men's shoes appears similar, reflected in their similar histogram shapes, even though women's shoes have a higher count from its overall bigger dataset."
   ]
  },
  {
   "cell_type": "code",
   "execution_count": null,
   "metadata": {},
   "outputs": [
    {
     "data": {
      "image/png": "[encoded data removed]",
      "text/plain": [
       "<Figure size 576x360 with 2 Axes>"
      ]
     },
     "metadata": {},
     "output_type": "display_data"
    },
    {
     "name": "stdout",
     "output_type": "stream",
     "text": [
      "The range of the price of men's shoes is 126.0\n",
      "The range of the price of women's shoes is 132.0\n"
     ]
    }
   ],
   "source": [
    "# price range of shoes\n",
    "price_min = min(men_shoes['price_dollars'].min(), women_shoes['price_dollars'].min())-5\n",
    "price_max = max(men_shoes['price_dollars'].max(), women_shoes['price_dollars'].max())+5\n",
    "\n",
    "\n",
    "plt.figure(figsize=(8,5))\n",
    "\n",
    "plt.subplot(2, 1, 1)\n",
    "sns.boxplot(data=men_shoes, x='price_dollars', color='skyblue')\n",
    "plt.title(\"Men's Shoes\")\n",
    "plt.xlabel('')\n",
    "plt.xticks([])\n",
    "plt.xlim(price_min, price_max)\n",
    "\n",
    "plt.subplot(2, 1, 2)\n",
    "sns.boxplot(data=women_shoes, x='price_dollars', color='lightpink')\n",
    "plt.title(\"Women's Shoes\")\n",
    "plt.xlim(price_min, price_max)\n",
    "plt.xlabel('Price')\n",
    "\n",
    "plt.show()\n",
    "\n",
    "print(\"The range of the price of men's shoes is \" + str(men_shoes['price_dollars'].max()-men_shoes['price_dollars'].min()))\n",
    "print(\"The range of the price of women's shoes is \" + str(women_shoes['price_dollars'].max()-women_shoes['price_dollars'].min()))"
   ]
  },
  {
   "cell_type": "markdown",
   "metadata": {},
   "source": [
    "From the boxplot, we can see that while there are outliers and price range differences for both men's and women's shoes, the overall distribution of prices appears more similar when compared to the plot we observed previously. This is more in accordance with what we would predict from its p-value which shows no statistically significant differences between the price distribution of men and women's shoes. \n"
   ]
  },
  {
   "cell_type": "markdown",
   "metadata": {},
   "source": [
    "After looking at the above categories that, suggested by their p-value, do not show significant price difference, we are able to identify one as inconclusive and one as showing truly no difference for the price distribution between men and women's shoes. \n"
   ]
  },
  {
   "cell_type": "markdown",
   "metadata": {},
   "source": [
    "**Now let's look at the other categories, starting with blazers.**"
   ]
  },
  {
   "cell_type": "code",
   "execution_count": null,
   "metadata": {},
   "outputs": [
    {
     "name": "stdout",
     "output_type": "stream",
     "text": [
      "       price_dollars\n",
      "count      22.000000\n",
      "mean      105.916364\n",
      "std        31.819230\n",
      "min        47.880000\n",
      "25%        76.680000\n",
      "50%       115.080000\n",
      "75%       131.880000\n",
      "max       143.880000 \n",
      " \n",
      "        price_dollars\n",
      "count      67.000000\n",
      "mean       65.288955\n",
      "std        21.629649\n",
      "min        35.880000\n",
      "25%        50.880000\n",
      "50%        59.880000\n",
      "75%        71.880000\n",
      "max       143.880000\n"
     ]
    }
   ],
   "source": [
    "print(men_blazers.describe(),'\\n','\\n', women_blazers.describe())"
   ]
  },
  {
   "cell_type": "code",
   "execution_count": null,
   "metadata": {},
   "outputs": [
    {
     "data": {
      "image/png": "[encoded data removed]",
      "text/plain": [
       "<Figure size 576x360 with 1 Axes>"
      ]
     },
     "metadata": {},
     "output_type": "display_data"
    }
   ],
   "source": [
    "plt.figure(figsize=(8,5))\n",
    "sns.histplot(data=women_blazers, x='price_dollars', bins=10, color='lightpink', label=\"Women's Blazers\")\n",
    "sns.histplot(data=men_blazers, x='price_dollars', bins=10, color='skyblue', label=\"Men's Blazers\")\n",
    "\n",
    "plt.xlabel('Price')\n",
    "plt.ylabel('Count')\n",
    "plt.legend()\n",
    "\n",
    "plt.show()"
   ]
  },
  {
   "cell_type": "markdown",
   "metadata": {},
   "source": [
    "From the histogram, we can see that the price distribution of women's blazers shows a positive skew, indicating that there are relatively fewer high-priced items. In contrast, the distribution for men's blazers appears more uniform, suggesting a relatively even spread of higher prices in comparison to women's. The distance between the two group can be further seen in comparison to shoes whose mean differ by 6 while blazers differ by 40."
   ]
  },
  {
   "cell_type": "code",
   "execution_count": null,
   "metadata": {},
   "outputs": [
    {
     "data": {
      "image/png": "[encoded data removed]",
      "text/plain": [
       "<Figure size 576x360 with 2 Axes>"
      ]
     },
     "metadata": {},
     "output_type": "display_data"
    },
    {
     "name": "stdout",
     "output_type": "stream",
     "text": [
      "The range of the price of men's blazers is 96.0\n",
      "The range of the price of women's blazers is 108.0\n"
     ]
    }
   ],
   "source": [
    "# price range of blazers\n",
    "price_min = min(men_blazers['price_dollars'].min(), women_blazers['price_dollars'].min())-5\n",
    "price_max = max(men_blazers['price_dollars'].max(), women_blazers['price_dollars'].max())+5\n",
    "\n",
    "plt.figure(figsize=(8,5))\n",
    "\n",
    "plt.subplot(2, 1, 1)\n",
    "sns.boxplot(data=men_blazers, x='price_dollars', color='skyblue')\n",
    "plt.title(\"Men's Blazers\")\n",
    "plt.xlabel('')\n",
    "plt.xticks([])\n",
    "plt.xlim(price_min, price_max)\n",
    "\n",
    "plt.subplot(2, 1, 2)\n",
    "sns.boxplot(data=women_blazers, x='price_dollars', color='lightpink')\n",
    "plt.title(\"Women's Blazers\")\n",
    "plt.xlim(price_min, price_max)\n",
    "plt.xlabel('Price')\n",
    "\n",
    "plt.show()\n",
    "\n",
    "\n",
    "print(\"The range of the price of men's blazers is \" + str(men_blazers['price_dollars'].max()-men_blazers['price_dollars'].min()))\n",
    "print(\"The range of the price of women's blazers is \" + str(women_blazers['price_dollars'].max()-women_blazers['price_dollars'].min()))\n"
   ]
  },
  {
   "cell_type": "markdown",
   "metadata": {},
   "source": [
    "Looking at the boxplot above, the shape of distribution and differences in price range have more resemblance with jeans than shoes, suggesting small and unequal data size to be contributing more to the p-value thant the statistical differences it indicates. "
   ]
  },
  {
   "cell_type": "markdown",
   "metadata": {},
   "source": [
    "**Jackets:**"
   ]
  },
  {
   "cell_type": "code",
   "execution_count": null,
   "metadata": {},
   "outputs": [
    {
     "name": "stdout",
     "output_type": "stream",
     "text": [
      "       price_dollars\n",
      "count      66.000000\n",
      "mean       77.061818\n",
      "std        27.602937\n",
      "min        35.880000\n",
      "25%        59.880000\n",
      "50%        71.880000\n",
      "75%        91.080000\n",
      "max       191.880000 \n",
      " \n",
      "        price_dollars\n",
      "count     113.000000\n",
      "mean       61.186195\n",
      "std        19.160153\n",
      "min        23.880000\n",
      "25%        47.880000\n",
      "50%        59.880000\n",
      "75%        71.880000\n",
      "max       131.880000\n"
     ]
    }
   ],
   "source": [
    "print(men_jackets.describe(),'\\n','\\n', women_jackets.describe())"
   ]
  },
  {
   "cell_type": "code",
   "execution_count": null,
   "metadata": {},
   "outputs": [
    {
     "data": {
      "image/png": "[encoded data removed]",
      "text/plain": [
       "<Figure size 576x360 with 1 Axes>"
      ]
     },
     "metadata": {},
     "output_type": "display_data"
    }
   ],
   "source": [
    "plt.figure(figsize=(8,5))\n",
    "sns.histplot(data=women_jackets, x='price_dollars', bins=10, color='lightpink', label=\"Women's Jackets\")\n",
    "sns.histplot(data=men_jackets, x='price_dollars', bins=10, color='skyblue', label=\"Men's Jackets\")\n",
    "\n",
    "plt.xlabel('Price')\n",
    "plt.ylabel('Count')\n",
    "plt.legend()\n",
    "\n",
    "plt.show()"
   ]
  },
  {
   "cell_type": "markdown",
   "metadata": {},
   "source": [
    "From the histogram, we can see that the price distribution of both women's and men's jackets are positively skewed, indicating that the majority of jackets have low prices. Yet we can also note that there are a higher count for higher-priced items in men's jackets than women's."
   ]
  },
  {
   "cell_type": "code",
   "execution_count": null,
   "metadata": {},
   "outputs": [
    {
     "data": {
      "image/png": "[encoded data removed]",
      "text/plain": [
       "<Figure size 576x360 with 2 Axes>"
      ]
     },
     "metadata": {},
     "output_type": "display_data"
    },
    {
     "name": "stdout",
     "output_type": "stream",
     "text": [
      "The range of the price of men's jackets is 156.0\n",
      "The range of the price of women's jackets is 108.0\n"
     ]
    }
   ],
   "source": [
    "# price range of jackets\n",
    "price_min = min(men_jackets['price_dollars'].min(), women_jackets['price_dollars'].min())-5\n",
    "price_max = max(men_jackets['price_dollars'].max(), women_jackets['price_dollars'].max())+5\n",
    "\n",
    "\n",
    "plt.figure(figsize=(8,5))\n",
    "\n",
    "plt.subplot(2, 1, 1)\n",
    "sns.boxplot(data=men_jackets, x='price_dollars', color='skyblue')\n",
    "plt.title(\"Men's Jackets\")\n",
    "plt.xlabel('')\n",
    "plt.xticks([])\n",
    "plt.xlim(price_min, price_max)\n",
    "\n",
    "plt.subplot(2, 1, 2)\n",
    "sns.boxplot(data=women_jackets, x='price_dollars', color='lightpink')\n",
    "plt.title(\"Women's Jackets\")\n",
    "plt.xlim(price_min, price_max)\n",
    "plt.xlabel('Price')\n",
    "\n",
    "plt.show()\n",
    "\n",
    "print(\"The range of the price of men's jackets is \" + str(men_jackets['price_dollars'].max()-men_jackets['price_dollars'].min()))\n",
    "print(\"The range of the price of women's jackets is \" + str(women_jackets['price_dollars'].max()-women_jackets['price_dollars'].min()))"
   ]
  },
  {
   "cell_type": "markdown",
   "metadata": {},
   "source": [
    "From the boxplot, we can see that both women's and men's jackets have 2 outliers that  are even higher for men than women. The price range for men's jackets are accordingly larger.  "
   ]
  },
  {
   "cell_type": "markdown",
   "metadata": {},
   "source": [
    "**Shirts:**"
   ]
  },
  {
   "cell_type": "code",
   "execution_count": null,
   "metadata": {},
   "outputs": [
    {
     "name": "stdout",
     "output_type": "stream",
     "text": [
      "       price_dollars\n",
      "count     175.000000\n",
      "mean       45.774857\n",
      "std        14.719005\n",
      "min        23.880000\n",
      "25%        39.480000\n",
      "50%        39.480000\n",
      "75%        47.880000\n",
      "max       131.880000 \n",
      " \n",
      "        price_dollars\n",
      "count     210.000000\n",
      "mean       40.440000\n",
      "std        11.624241\n",
      "min        23.880000\n",
      "25%        35.880000\n",
      "50%        37.680000\n",
      "75%        39.480000\n",
      "max       115.080000\n"
     ]
    }
   ],
   "source": [
    "print(men_shirts.describe(),'\\n','\\n', women_shirts.describe())"
   ]
  },
  {
   "cell_type": "code",
   "execution_count": null,
   "metadata": {},
   "outputs": [
    {
     "data": {
      "image/png": "[encoded data removed]",
      "text/plain": [
       "<Figure size 576x360 with 1 Axes>"
      ]
     },
     "metadata": {},
     "output_type": "display_data"
    }
   ],
   "source": [
    "plt.figure(figsize=(8,5))\n",
    "sns.histplot(data=women_shirts, x='price_dollars', bins=10, color='lightpink', label=\"Women's Shirts\")\n",
    "sns.histplot(data=men_shirts, x='price_dollars', bins=10, color='skyblue', label=\"Men's Shirts\")\n",
    "\n",
    "plt.xlabel('Price')\n",
    "plt.ylabel('Count')\n",
    "plt.legend()\n",
    "\n",
    "plt.show()"
   ]
  },
  {
   "cell_type": "markdown",
   "metadata": {},
   "source": [
    "From the histogram, we can see that the shape of price distribution for both women's and men's shirts show a positive skew and a long right tail of a small number of items with far higher price than the majority. Let's better identify those items using boxplot below. \n"
   ]
  },
  {
   "cell_type": "code",
   "execution_count": null,
   "metadata": {},
   "outputs": [
    {
     "data": {
      "image/png": "[encoded data removed]",
      "text/plain": [
       "<Figure size 576x360 with 2 Axes>"
      ]
     },
     "metadata": {},
     "output_type": "display_data"
    },
    {
     "name": "stdout",
     "output_type": "stream",
     "text": [
      "The range of the price of men's shirts is 108.0\n",
      "The range of the price of women's shirts is 91.2\n"
     ]
    }
   ],
   "source": [
    "# price range of shirts\n",
    "\n",
    "plt.figure(figsize=(8,5))\n",
    "\n",
    "plt.subplot(2, 1, 1)\n",
    "sns.boxplot(data=men_shirts, x='price_dollars', color='skyblue')\n",
    "plt.title(\"Men's Shirts\")\n",
    "plt.xlabel('')\n",
    "plt.xticks([])\n",
    "\n",
    "plt.subplot(2, 1, 2)\n",
    "sns.boxplot(data=women_shirts, x='price_dollars', color='lightpink')\n",
    "plt.title(\"Women's Shirts\")\n",
    "plt.xlabel('Price')\n",
    "\n",
    "plt.show()\n",
    "print(\"The range of the price of men's shirts is \" + str(men_shirts['price_dollars'].max()-men_shirts['price_dollars'].min()))\n",
    "print(\"The range of the price of women's shirts is \" + str(women_shirts['price_dollars'].max()-women_shirts['price_dollars'].min()))\n"
   ]
  },
  {
   "cell_type": "markdown",
   "metadata": {},
   "source": [
    "From the boxplot, we can see that there are many outliers for both men's and women's shirts with both exceptionally high and low prices. Women's shirts, in particular, have a greater number of outliers compared to men's due to the higher count number. We can also see that the range of the price of men's shirts to be larger than women's. \n",
    "\n",
    "In the context of clothing stores, these statistical outliers represent individual cases of clothing items that are the combined product of marketing strategies and artistical pursuit instead of everyday purchase. "
   ]
  },
  {
   "cell_type": "markdown",
   "metadata": {},
   "source": [
    "**Trousers:**"
   ]
  },
  {
   "cell_type": "code",
   "execution_count": null,
   "metadata": {},
   "outputs": [
    {
     "name": "stdout",
     "output_type": "stream",
     "text": [
      "       price_dollars\n",
      "count     119.000000\n",
      "mean       52.911933\n",
      "std        15.279320\n",
      "min        31.080000\n",
      "25%        39.480000\n",
      "50%        47.880000\n",
      "75%        59.880000\n",
      "max       143.880000 \n",
      " \n",
      "        price_dollars\n",
      "count     107.000000\n",
      "mean       42.003364\n",
      "std        12.155149\n",
      "min        23.880000\n",
      "25%        35.880000\n",
      "50%        39.480000\n",
      "75%        47.880000\n",
      "max        91.080000\n"
     ]
    }
   ],
   "source": [
    "print(men_trousers.describe(),'\\n','\\n', women_trousers.describe())"
   ]
  },
  {
   "cell_type": "code",
   "execution_count": null,
   "metadata": {},
   "outputs": [
    {
     "data": {
      "image/png": "[encoded data removed]",
      "text/plain": [
       "<Figure size 576x360 with 1 Axes>"
      ]
     },
     "metadata": {},
     "output_type": "display_data"
    }
   ],
   "source": [
    "plt.figure(figsize=(8,5))\n",
    "sns.histplot(data=men_trousers, x='price_dollars', bins=10, color='skyblue', label=\"Men's Trousers\")\n",
    "sns.histplot(data=women_trousers, x='price_dollars', bins=10, color='lightpink', label=\"Women's Trousers\")\n",
    "\n",
    "plt.xlabel('Price')\n",
    "plt.ylabel('Count')\n",
    "plt.legend()\n",
    "\n",
    "plt.show()"
   ]
  },
  {
   "cell_type": "markdown",
   "metadata": {},
   "source": [
    "From the histogram, we can see that the price distribution of both men's and women's trousers can be considered positively skewed, with women's trousers having more counts in the lower-priced range. Men's trousers also show higher price in terms of central tendency than women's, the former around 60 and the latter around 40. "
   ]
  },
  {
   "cell_type": "code",
   "execution_count": null,
   "metadata": {},
   "outputs": [
    {
     "data": {
      "image/png": "[encoded data removed]",
      "text/plain": [
       "<Figure size 576x360 with 2 Axes>"
      ]
     },
     "metadata": {},
     "output_type": "display_data"
    },
    {
     "name": "stdout",
     "output_type": "stream",
     "text": [
      "The range of the price of men's trousers is 112.8\n",
      "The range of the price of women's trousers is 67.2\n"
     ]
    }
   ],
   "source": [
    "# price range of trousers\n",
    "price_min = min(men_trousers['price_dollars'].min(), women_trousers['price_dollars'].min())-5\n",
    "price_max = max(men_trousers['price_dollars'].max(), women_trousers['price_dollars'].max())+5\n",
    "\n",
    "\n",
    "plt.figure(figsize=(8,5))\n",
    "\n",
    "plt.subplot(2, 1, 1)\n",
    "sns.boxplot(data=men_trousers, x='price_dollars', color='skyblue')\n",
    "plt.title(\"Men's Trousers\")\n",
    "plt.xlabel('')\n",
    "plt.xticks([])\n",
    "plt.xlim(price_min, price_max)\n",
    "\n",
    "plt.subplot(2, 1, 2)\n",
    "sns.boxplot(data=women_trousers, x='price_dollars', color='lightpink')\n",
    "plt.title(\"Women's Trousers\")\n",
    "plt.xlim(price_min, price_max)\n",
    "plt.xlabel('Price')\n",
    "\n",
    "plt.show()\n",
    "\n",
    "print(\"The range of the price of men's trousers is \" + str(men_trousers['price_dollars'].max()-men_trousers['price_dollars'].min()))\n",
    "print(\"The range of the price of women's trousers is \" + str(women_trousers['price_dollars'].max()-women_trousers['price_dollars'].min()))"
   ]
  },
  {
   "cell_type": "markdown",
   "metadata": {},
   "source": [
    "From the boxplot, we can see that there are outliers for both men's and women's trousers, with men's trousers having 1 more outlier than women's. We can also see that the range of the price of men's shoes is larger than women's."
   ]
  },
  {
   "cell_type": "markdown",
   "metadata": {},
   "source": [
    "After looking at the above categories, we identified two categories to be inconclusive in analyzing their price distribution differences due to small counts of data, jeans and blazers, which is most likely due to the items overlapping with trousers and jackets. \n",
    "\n",
    "With the remaining categories: jackets, shirts, trousers, and shoes, shoes are the only category that show no statistical significant differences between men and women's price distributions. With the three remaining categories, aside from all showing statistical significance that men's items have a higher price distribution than women's, they also show a higher variance and larger price range for men's item than women's. This is supports what we raised earlier regarding the context of the brand we are investigating and how women's items are provided more in a controlled and affordable pricing. "
   ]
  },
  {
   "cell_type": "markdown",
   "metadata": {},
   "source": [
    "Based on the commonality we found between the three categories, lastly, let's take a look at how the mean, range and variance change between each categories and between the two genders by putting all the data together."
   ]
  },
  {
   "cell_type": "code",
   "execution_count": null,
   "metadata": {},
   "outputs": [],
   "source": [
    "# combine men and women's data together \n",
    "men_data['gender'] = 'men'\n",
    "women_data['gender'] = 'women'\n",
    "\n",
    "combined_data = pd.concat([men_data, women_data])"
   ]
  },
  {
   "cell_type": "code",
   "execution_count": null,
   "metadata": {},
   "outputs": [
    {
     "data": {
      "text/plain": [
       "Text(0, 0.5, 'Mean Price')"
      ]
     },
     "metadata": {},
     "output_type": "display_data"
    },
    {
     "data": {
      "image/png": "[encoded data removed]",
      "text/plain": [
       "<Figure size 576x360 with 1 Axes>"
      ]
     },
     "metadata": {},
     "output_type": "display_data"
    }
   ],
   "source": [
    "# take a look at the mean price of each categories together\n",
    "mean_price = combined_data.groupby(['product_type', 'gender'])['price_dollars'].mean().reset_index()\n",
    "\n",
    "plt.figure(figsize=(8,5))\n",
    "sns.barplot(data=mean_price, x='product_type', y='price_dollars', hue='gender', errorbar=None,\n",
    "           palette={'men': 'skyblue', 'women': 'lightpink'})\n",
    "\n",
    "plt.xlabel('Product Type')\n",
    "plt.ylabel('Mean Price')"
   ]
  },
  {
   "cell_type": "markdown",
   "metadata": {},
   "source": [
    "From the barplot, we can see that overall, men's products have higher mean prices. While the mean prices of women's products are relatively close, men's products exhibit a greater degree of variability in their mean prices."
   ]
  },
  {
   "cell_type": "code",
   "execution_count": null,
   "metadata": {},
   "outputs": [
    {
     "data": {
      "text/plain": [
       "Text(0, 0.5, 'Standard Deviation')"
      ]
     },
     "metadata": {},
     "output_type": "display_data"
    },
    {
     "data": {
      "image/png": "[encoded data removed]",
      "text/plain": [
       "<Figure size 576x360 with 1 Axes>"
      ]
     },
     "metadata": {},
     "output_type": "display_data"
    }
   ],
   "source": [
    "# take a look at the standard deviation of each categories together\n",
    "std = combined_data.groupby(['product_type', 'gender'])['price_dollars'].std().reset_index()\n",
    "\n",
    "plt.figure(figsize=(8,5))\n",
    "sns.barplot(data=std, x='product_type', y='price_dollars', hue='gender', errorbar=None,\n",
    "           palette={'men': 'skyblue', 'women': 'lightpink'})\n",
    "\n",
    "plt.xlabel('Product Type')\n",
    "plt.ylabel('Standard Deviation')\n"
   ]
  },
  {
   "cell_type": "markdown",
   "metadata": {},
   "source": [
    "From the barplot for standard deviation across categories, it is clear that all men's items have higher standard deviation which indicates more outliers and more variance in their price which is not the norm for consumer products in fast fashion."
   ]
  },
  {
   "cell_type": "code",
   "execution_count": null,
   "metadata": {},
   "outputs": [
    {
     "data": {
      "text/plain": [
       "Text(0, 0.5, 'Price Range')"
      ]
     },
     "metadata": {},
     "output_type": "display_data"
    },
    {
     "data": {
      "image/png": "[encoded data removed]",
      "text/plain": [
       "<Figure size 576x360 with 1 Axes>"
      ]
     },
     "metadata": {},
     "output_type": "display_data"
    }
   ],
   "source": [
    "# take a look at the price range of each categories together\n",
    "price_range = combined_data.groupby(['product_type', 'gender'])['price_dollars'].agg(['min', 'max']).reset_index()\n",
    "price_range['price_range'] = price_range['max'] - price_range['min']\n",
    "\n",
    "plt.figure(figsize=(8,5))\n",
    "sns.barplot(data=price_range, x='product_type', y='price_range', hue='gender', errorbar=None,\n",
    "           palette={'men': 'skyblue', 'women': 'lightpink'})\n",
    "\n",
    "plt.xlabel('Product Type')\n",
    "plt.ylabel('Price Range')"
   ]
  },
  {
   "cell_type": "markdown",
   "metadata": {},
   "source": [
    "From the barplot, we can see that for jackets, jeans, shirts and trousers, the range of the price is higher for men, while for blazers and shoes, the range of price is higher for women."
   ]
  },
  {
   "cell_type": "code",
   "execution_count": null,
   "metadata": {},
   "outputs": [
    {
     "data": {
      "text/plain": [
       "Text(0, 0.5, 'Count')"
      ]
     },
     "metadata": {},
     "output_type": "display_data"
    },
    {
     "data": {
      "image/png": "[encoded data removed]",
      "text/plain": [
       "<Figure size 576x360 with 1 Axes>"
      ]
     },
     "metadata": {},
     "output_type": "display_data"
    }
   ],
   "source": [
    "# take a look at the number of items in each categories \n",
    "count = combined_data.groupby(['product_type', 'gender']).size().reset_index(name='count')\n",
    "\n",
    "plt.figure(figsize=(8,5))\n",
    "sns.barplot(data=count, x='product_type', y='count', hue='gender', palette={'men': 'skyblue', 'women': 'lightpink'})\n",
    "plt.xlabel('Product Type')\n",
    "plt.ylabel('Count')"
   ]
  },
  {
   "cell_type": "markdown",
   "metadata": {},
   "source": [
    "The barplots above illustrates the counts across categories and their relative data set. It is clear that jeans and blazers, as mentioned previously, do not have a sufficient or balanced data to reach any conclusion. "
   ]
  },
  {
   "cell_type": "markdown",
   "metadata": {},
   "source": [
    "# Ethics & Privacy"
   ]
  },
  {
   "cell_type": "markdown",
   "metadata": {},
   "source": [
    "Given the all-girl composition of our group, we want to avoid confirmation bias throughout the data collection, cleaning, analysis process, which may lead us to focus on and keep only data that supports our hypothesis while ignoring contradictory evidence.\n",
    "To avoid this, we need to consider and include datasets that encompass both male and female products with consideration for all the population that should be present under our question. \n",
    "\n",
    "In practice, this means to also select datasets from sources that were unrelated to the topic of pink tax, or even ones that contradict the idea that women have to pay more for everyday items, so to obtain all possible perspectives and form an honest, well-rounded analysis. We also need to consider that not all women may be impacted by the Pink Tax equally. For example, the pink tax may disproportionately affect women of color or transgender individuals. We need to ensure that we have an equitable interpretation and collection of data. \n",
    "\n",
    "Our personal experiences can introduce subjective biases when communicating our findings. Therefore, in all stages of writing, we would aim to convey findings based on statistical proof and with objective, matter-of-fact language。 \n",
    "\n",
    "If there is significant evidence in our analysis showing that pink tax does exist, one ethical concern is the tendency in interpretation to blame consumers for supporting and enabling the pink tax by choosing to buy certain higher-priced products. When involving and implying consumer choices as the causing factor of pink tax, the interpretation of our analysis may unintentionally strengthen gender stereotypes regarding appearance maintenance. Therefore, we would also need to consider companies’ perspective of their reactions to differences in production cost and market demand as a factor for our findings. \n"
   ]
  },
  {
   "cell_type": "markdown",
   "metadata": {},
   "source": [
    "# Discussion and Conclusion\n",
    "\n",
    "In contrast to the \"pink tax,\" we found that, when we compared prices across categories for similar women's and men's clothing products, men's apparel goods at Zara were frequently more costly. For example, men's blazers were over \\$40 more on average. Men's items also exhibited greater price variability and wider ranges overall. Some men's jackets cost over $190, whereas no women's jackets exceeded $130.\n",
    "\n",
    "More precisely, men's jackets, shirts, slacks, and blazers are usually more expensive than similar women's items. There was also greater variety and a larger range of prices for men's items. The majority of women's goods were priced under $70 across categories, exhibiting tighter clusters away from extremes. The assumption that women pay an extra \"pink tax\" across consumer categories is certainly questionable in this case.\n",
    "\n",
    "While we initially hypothesized women would pay more in general, the data suggests more complex pricing dynamics are at play in relation to production costs, market demand, and marketing tactics.\n",
    "\n",
    "Further investigation is needed to understand the reasons for the higher average pricing and greater variability of men's items compared to women's. But this analysis indicates overly simplistic assumptions about uniform gender-based pricing differences should be questioned, at least when it comes to fast fashion companies like Zara.\n",
    "\n",
    "\n",
    "\n",
    "# Team Contributions\n",
    "\n",
    "1. Elaine: Project overview, choosing data sets, data overview\n",
    "2. Michelle: ethics and privacy, data wrangling report and presentation, timeline\n",
    "3. Yoyo: Analysis and its presentation, Team Expectations and Research Question. \n",
    "4. Amber: Hypothesis, EDA and presentation\n",
    "5. Tracy: Worked on the background, discussion/conclusion, created google slides presentation \n"
   ]
  }
 ],
 "metadata": {
  "interpreter": {
   "hash": "f1062708a37074d70712b695aadee582e0b0b9f95f45576b5521424137d05fec"
  },
  "kernelspec": {
   "display_name": "Python 3.12.0 64-bit",
   "language": "python",
   "name": "python3"
  },
  "language_info": {
   "codemirror_mode": {
    "name": "ipython",
    "version": 3
   },
   "file_extension": ".py",
   "mimetype": "text/x-python",
   "name": "python",
   "nbconvert_exporter": "python",
   "pygments_lexer": "ipython3",
   "version": "3.12.0"
  }
 },
 "nbformat": 4,
 "nbformat_minor": 2
}
